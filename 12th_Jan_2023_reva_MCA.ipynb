{
  "nbformat": 4,
  "nbformat_minor": 0,
  "metadata": {
    "colab": {
      "provenance": [],
      "authorship_tag": "ABX9TyN1YiS2sxX6yFmX5hlvohdc",
      "include_colab_link": true
    },
    "kernelspec": {
      "name": "python3",
      "display_name": "Python 3"
    },
    "language_info": {
      "name": "python"
    }
  },
  "cells": [
    {
      "cell_type": "markdown",
      "metadata": {
        "id": "view-in-github",
        "colab_type": "text"
      },
      "source": [
        "<a href=\"https://colab.research.google.com/github/azhargies/Story/blob/master/12th_Jan_2023_reva_MCA.ipynb\" target=\"_parent\"><img src=\"https://colab.research.google.com/assets/colab-badge.svg\" alt=\"Open In Colab\"/></a>"
      ]
    },
    {
      "cell_type": "code",
      "execution_count": null,
      "metadata": {
        "id": "CiipsAOeHMy8"
      },
      "outputs": [],
      "source": [
        "import pandas as pd\n",
        "import numpy as np\n",
        "import tensorflow as tf\n",
        "import seaborn as sns\n"
      ]
    },
    {
      "cell_type": "code",
      "source": [
        "data = pd.read_csv(\"/content/Celsius_to_Fahrenheit.csv\")\n",
        "data"
      ],
      "metadata": {
        "id": "m5YdpTcnILI4"
      },
      "execution_count": null,
      "outputs": []
    },
    {
      "cell_type": "code",
      "source": [
        "data.shape"
      ],
      "metadata": {
        "id": "Ht21mfNPMbkm"
      },
      "execution_count": null,
      "outputs": []
    },
    {
      "cell_type": "code",
      "source": [
        "X = data[\"Celsius\"]\n",
        "Y = data[\"Fahrenheit\"]"
      ],
      "metadata": {
        "id": "N6hlh6dPIVXU"
      },
      "execution_count": null,
      "outputs": []
    },
    {
      "cell_type": "code",
      "source": [
        "#1. Build Sequential Model: input layer-shape, output layer - no. of classes\n",
        "#2. Compilation: Optimizer, Loss, metrics\n",
        "#3. Fit the model: xtrain, ytrain, epochs"
      ],
      "metadata": {
        "id": "RL3DerK_IlC-"
      },
      "execution_count": null,
      "outputs": []
    },
    {
      "cell_type": "code",
      "source": [
        "model = tf.keras.Sequential()\n",
        "model.add(tf.keras.layers.Dense(1, input_shape=[1]))\n",
        "\n",
        "model.compile(optimizer = tf.keras.optimizers.Adam(\n",
        "    learning_rate=0.5), loss = \"mean_squared_error\")\n",
        "\n",
        "model.fit(X,Y, epochs = 1000)"
      ],
      "metadata": {
        "id": "8aG2FAugLObL"
      },
      "execution_count": null,
      "outputs": []
    },
    {
      "cell_type": "code",
      "source": [
        "temp = [40.0]\n",
        "\n",
        "model.predict(temp)"
      ],
      "metadata": {
        "collapsed": true,
        "id": "zW1LIjTUO01O"
      },
      "execution_count": null,
      "outputs": []
    },
    {
      "cell_type": "code",
      "source": [],
      "metadata": {
        "id": "YrqHUhvySFNm"
      },
      "execution_count": null,
      "outputs": []
    }
  ]
}